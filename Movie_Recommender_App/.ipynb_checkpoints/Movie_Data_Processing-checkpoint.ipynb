{
 "cells": [
  {
   "cell_type": "code",
   "execution_count": 3,
   "id": "943362b0-f9dd-48b6-823c-1360dedbcf13",
   "metadata": {},
   "outputs": [
    {
     "ename": "FileNotFoundError",
     "evalue": "[WinError 2] The system cannot find the file specified: 'Movie_Recommender_App'",
     "output_type": "error",
     "traceback": [
      "\u001b[1;31m---------------------------------------------------------------------------\u001b[0m",
      "\u001b[1;31mFileNotFoundError\u001b[0m                         Traceback (most recent call last)",
      "Input \u001b[1;32mIn [3]\u001b[0m, in \u001b[0;36m<cell line: 2>\u001b[1;34m()\u001b[0m\n\u001b[0;32m      1\u001b[0m \u001b[38;5;28;01mimport\u001b[39;00m \u001b[38;5;21;01mos\u001b[39;00m\n\u001b[1;32m----> 2\u001b[0m \u001b[43mos\u001b[49m\u001b[38;5;241;43m.\u001b[39;49m\u001b[43mchdir\u001b[49m\u001b[43m(\u001b[49m\u001b[38;5;124;43m'\u001b[39;49m\u001b[38;5;124;43mMovie_Recommender_App\u001b[39;49m\u001b[38;5;124;43m'\u001b[39;49m\u001b[43m)\u001b[49m\n",
      "\u001b[1;31mFileNotFoundError\u001b[0m: [WinError 2] The system cannot find the file specified: 'Movie_Recommender_App'"
     ]
    }
   ],
   "source": [
    "import os\n",
    "os.chdir('Movie_Recommender_App')"
   ]
  },
  {
   "cell_type": "code",
   "execution_count": null,
   "id": "8fb1f66a-d522-42ea-948f-8f367a846602",
   "metadata": {},
   "outputs": [],
   "source": [
    "import pandas as pd\n",
    "# Load dataset to a data frame\n",
    "data = pd.read_csv('./Data/movie_metadata.csv')\n",
    "data.head()"
   ]
  },
  {
   "cell_type": "code",
   "execution_count": null,
   "id": "4bb0e1cc-41ba-42a7-b244-1a960393154d",
   "metadata": {},
   "outputs": [],
   "source": [
    "print(data.shape)"
   ]
  },
  {
   "cell_type": "code",
   "execution_count": null,
   "id": "7e4e6209-ff45-454d-930d-11e87da969ee",
   "metadata": {},
   "outputs": [],
   "source": [
    "# Create a new data frame with relevant columns only\n",
    "df = data[['genres', 'movie_title', 'imdb_score', 'movie_imdb_link']].copy()\n",
    "df.head()"
   ]
  },
  {
   "cell_type": "code",
   "execution_count": null,
   "id": "6d60c9b1-b001-4887-891e-203db358989c",
   "metadata": {},
   "outputs": [],
   "source": [
    "# Fetch genres of all movies\n",
    "genres_all_movies = [df.loc[i]['genres'].split('|') for i in df.index]\n",
    "# Find the list of genres of all movies in alphabetical order\n",
    "genres = sorted(list(set([item for sublist in genres_all_movies for item in sublist])))\n",
    "genres"
   ]
  },
  {
   "cell_type": "code",
   "execution_count": null,
   "id": "ca529730-9490-48ce-bd8c-c2c99e656e0c",
   "metadata": {},
   "outputs": [],
   "source": [
    "len(genres)"
   ]
  },
  {
   "cell_type": "code",
   "execution_count": null,
   "id": "81ff0370-0c96-48d9-b68c-48f566f0e11d",
   "metadata": {},
   "outputs": [],
   "source": [
    "# Initialize lists for movie data as well as titles\n",
    "full_data = []\n",
    "movie_titles = []"
   ]
  },
  {
   "cell_type": "code",
   "execution_count": null,
   "id": "f82347dc-ccb6-42c5-ba8b-9b3184077700",
   "metadata": {},
   "outputs": [],
   "source": [
    "print(df)"
   ]
  },
  {
   "cell_type": "code",
   "execution_count": null,
   "id": "2e408b79-d475-42f3-8b01-52b1dcab1b60",
   "metadata": {},
   "outputs": [],
   "source": [
    "df.to_csv('test.csv')"
   ]
  },
  {
   "cell_type": "code",
   "execution_count": null,
   "id": "f6f36a3e-dcb0-4be7-bbfd-abc6887d78f2",
   "metadata": {},
   "outputs": [],
   "source": [
    "for i in df.index:\n",
    "    # Append movie title and the index of the movie\n",
    "    movie_titles.append((df.loc[i]['movie_title'].strip(), i, df.loc[i]['movie_imdb_link'].strip()))\n",
    "    # Add list of genres of the movies (1/0) to movie data\n",
    "    movie_data = [1 if genre in df.loc[i]['genres'].split('|') else 0 for genre in genres]\n",
    "    # Add IMDb score of the movie to the movie data\n",
    "    movie_data.append(df.loc[i]['imdb_score'])\n",
    "    # Add record of movie to main data list\n",
    "    full_data.append(movie_data)"
   ]
  },
  {
   "cell_type": "code",
   "execution_count": null,
   "id": "1ddde2f4-270c-4d03-b414-9b568077443c",
   "metadata": {},
   "outputs": [],
   "source": [
    "print(movie_titles[1])"
   ]
  },
  {
   "cell_type": "code",
   "execution_count": null,
   "id": "c6bc3afa-b4cc-4db3-ab96-75d7ff80b7c5",
   "metadata": {},
   "outputs": [],
   "source": [
    "print(full_data[0])"
   ]
  },
  {
   "cell_type": "code",
   "execution_count": null,
   "id": "6b3601a6-713d-4fcd-b87b-43ecec5f9c65",
   "metadata": {},
   "outputs": [],
   "source": [
    "print(movie_titles)\n",
    "data_dump = './Data/movie_data.json'\n",
    "titles_dump = './Data/movie_titles.json'\n",
    "with open(data_dump, 'w+', encoding='utf-8') as f:\n",
    "    json.dump(full_data, f)\n",
    "with open(titles_dump, 'w+', encoding='utf-8') as f:\n",
    "    json.dump(movie_titles, f)"
   ]
  }
 ],
 "metadata": {
  "kernelspec": {
   "display_name": "Python 3 (ipykernel)",
   "language": "python",
   "name": "python3"
  },
  "language_info": {
   "codemirror_mode": {
    "name": "ipython",
    "version": 3
   },
   "file_extension": ".py",
   "mimetype": "text/x-python",
   "name": "python",
   "nbconvert_exporter": "python",
   "pygments_lexer": "ipython3",
   "version": "3.9.12"
  }
 },
 "nbformat": 4,
 "nbformat_minor": 5
}
